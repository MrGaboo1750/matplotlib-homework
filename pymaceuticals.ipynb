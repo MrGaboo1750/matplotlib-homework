{
 "cells": [
  {
   "cell_type": "markdown",
   "metadata": {},
   "source": [
    "## Observations and Insights "
   ]
  },
  {
   "cell_type": "markdown",
   "metadata": {},
   "source": []
  },
  {
   "cell_type": "markdown",
   "metadata": {},
   "source": [
    "Written Analysis\n",
    "\n",
    "Capomulin and Ramicane demonstrated the lowest mean and median tumor volumes and the lowest degree of variability (variances and standard deviations) when assessed across all time points. These two drugs also showed the lowest median final tumor volumes. Ramicane showed the lowest median final tumor volume overall. However, given the substantial degree of overlap in the data distributions for ramicane and capomulin, it is unlikely that Ramicane is significantly more effective than Capomulin at reducing tumor size. Interestingly, Ketapril, Naftisol, and Stelasyn all showed larger full time course mean and median tumor volumes than the placebo treatment, suggesting that these drugs provide no benefit. However, these comparisons will require proper statistical analysis (including adjustments for multiple comparison testing) in order to draw any solid conclusions from the data. \n",
    "\n",
    "Among the top four drugs analyzed, there was only a single final tumor volume for the Infubinol-treated mice that appears to be an outlier. None of the other top four drugs showed outlier final tumor volumes. \n",
    "\n",
    "For the specific Capomulin-treated specimen selected, mouse s185, the volume of the tumor appears to decrease over time, suggesting that Capomulin treatment may afford time-dependent anti-tumor benefits. While promising, this observation must be considered preliminary at best. A firmer conclusion could be drawn by, for instance, assessing the average or median tumor volume at each timepoint for all mice that received Capomulin treatment.\n",
    "\n",
    "The weights of Capomulin-treated mice appear to correlate positively with average tumor volume. Assuming that the weights of each mouse include the weights of the tumors and that there are no extraneous factors influencing the weights of the mice (e.g. increased fat or muscle mass in mice harboring larger tumors) , this trend suggests that the tumors comprise a significant portion of each mouse’s overall weight.\n",
    "\n"
   ]
  },
  {
   "cell_type": "code",
   "execution_count": 1,
   "metadata": {},
   "outputs": [
    {
     "data": {
      "text/html": [
       "<div>\n",
       "<style scoped>\n",
       "    .dataframe tbody tr th:only-of-type {\n",
       "        vertical-align: middle;\n",
       "    }\n",
       "\n",
       "    .dataframe tbody tr th {\n",
       "        vertical-align: top;\n",
       "    }\n",
       "\n",
       "    .dataframe thead th {\n",
       "        text-align: right;\n",
       "    }\n",
       "</style>\n",
       "<table border=\"1\" class=\"dataframe\">\n",
       "  <thead>\n",
       "    <tr style=\"text-align: right;\">\n",
       "      <th></th>\n",
       "      <th>Mouse ID</th>\n",
       "      <th>Drug Regimen</th>\n",
       "      <th>Sex</th>\n",
       "      <th>Age_months</th>\n",
       "      <th>Weight (g)</th>\n",
       "      <th>Timepoint</th>\n",
       "      <th>Tumor Volume (mm3)</th>\n",
       "      <th>Metastatic Sites</th>\n",
       "    </tr>\n",
       "  </thead>\n",
       "  <tbody>\n",
       "    <tr>\n",
       "      <td>0</td>\n",
       "      <td>k403</td>\n",
       "      <td>Ramicane</td>\n",
       "      <td>Male</td>\n",
       "      <td>21</td>\n",
       "      <td>16</td>\n",
       "      <td>0</td>\n",
       "      <td>45.000000</td>\n",
       "      <td>0</td>\n",
       "    </tr>\n",
       "    <tr>\n",
       "      <td>1</td>\n",
       "      <td>k403</td>\n",
       "      <td>Ramicane</td>\n",
       "      <td>Male</td>\n",
       "      <td>21</td>\n",
       "      <td>16</td>\n",
       "      <td>5</td>\n",
       "      <td>38.825898</td>\n",
       "      <td>0</td>\n",
       "    </tr>\n",
       "    <tr>\n",
       "      <td>2</td>\n",
       "      <td>k403</td>\n",
       "      <td>Ramicane</td>\n",
       "      <td>Male</td>\n",
       "      <td>21</td>\n",
       "      <td>16</td>\n",
       "      <td>10</td>\n",
       "      <td>35.014271</td>\n",
       "      <td>1</td>\n",
       "    </tr>\n",
       "    <tr>\n",
       "      <td>3</td>\n",
       "      <td>k403</td>\n",
       "      <td>Ramicane</td>\n",
       "      <td>Male</td>\n",
       "      <td>21</td>\n",
       "      <td>16</td>\n",
       "      <td>15</td>\n",
       "      <td>34.223992</td>\n",
       "      <td>1</td>\n",
       "    </tr>\n",
       "    <tr>\n",
       "      <td>4</td>\n",
       "      <td>k403</td>\n",
       "      <td>Ramicane</td>\n",
       "      <td>Male</td>\n",
       "      <td>21</td>\n",
       "      <td>16</td>\n",
       "      <td>20</td>\n",
       "      <td>32.997729</td>\n",
       "      <td>1</td>\n",
       "    </tr>\n",
       "  </tbody>\n",
       "</table>\n",
       "</div>"
      ],
      "text/plain": [
       "  Mouse ID Drug Regimen   Sex  Age_months  Weight (g)  Timepoint  \\\n",
       "0     k403     Ramicane  Male          21          16          0   \n",
       "1     k403     Ramicane  Male          21          16          5   \n",
       "2     k403     Ramicane  Male          21          16         10   \n",
       "3     k403     Ramicane  Male          21          16         15   \n",
       "4     k403     Ramicane  Male          21          16         20   \n",
       "\n",
       "   Tumor Volume (mm3)  Metastatic Sites  \n",
       "0           45.000000                 0  \n",
       "1           38.825898                 0  \n",
       "2           35.014271                 1  \n",
       "3           34.223992                 1  \n",
       "4           32.997729                 1  "
      ]
     },
     "execution_count": 1,
     "metadata": {},
     "output_type": "execute_result"
    }
   ],
   "source": [
    "# Matplotlib Pymaceuticals Homework\n",
    "# Written by Jason Gabunilas\n",
    "\n",
    "# Dependencies and Setup\n",
    "import matplotlib.pyplot as plt\n",
    "import pandas as pd\n",
    "import numpy as np\n",
    "import scipy.stats as st\n",
    "\n",
    "# Study data files\n",
    "mouse_metadata_path = \"data/Mouse_metadata.csv\"\n",
    "study_results_path = \"data/Study_results.csv\"\n",
    "\n",
    "# Read the mouse data and the study results\n",
    "mouse_metadata = pd.read_csv(mouse_metadata_path)\n",
    "study_results = pd.read_csv(study_results_path)\n",
    "\n",
    "# Combine the data into a single dataset\n",
    "study_data = pd.merge(mouse_metadata, study_results, on = \"Mouse ID\", how = \"outer\")\n",
    "# Display the data table for preview\n",
    "study_data.head()"
   ]
  },
  {
   "cell_type": "code",
   "execution_count": 2,
   "metadata": {},
   "outputs": [
    {
     "name": "stdout",
     "output_type": "stream",
     "text": [
      "This dataset contains 249 unique mice.\n"
     ]
    }
   ],
   "source": [
    "# Checking the number of mice.\n",
    "num_mice = study_data[\"Mouse ID\"].unique()\n",
    "print(f\"This dataset contains {len(num_mice)} unique mice.\")\n"
   ]
  },
  {
   "cell_type": "code",
   "execution_count": 3,
   "metadata": {},
   "outputs": [
    {
     "name": "stdout",
     "output_type": "stream",
     "text": [
      "Mouse g989 has duplicate entries for Timepoint. Below is data associated with this mouse.\n",
      "    Mouse ID Drug Regimen     Sex  Age_months  Weight (g)  Timepoint  \\\n",
      "908     g989     Propriva  Female          21          26          0   \n",
      "909     g989     Propriva  Female          21          26          0   \n",
      "910     g989     Propriva  Female          21          26          5   \n",
      "911     g989     Propriva  Female          21          26          5   \n",
      "912     g989     Propriva  Female          21          26         10   \n",
      "913     g989     Propriva  Female          21          26         10   \n",
      "914     g989     Propriva  Female          21          26         15   \n",
      "915     g989     Propriva  Female          21          26         15   \n",
      "916     g989     Propriva  Female          21          26         20   \n",
      "917     g989     Propriva  Female          21          26         20   \n",
      "918     g989     Propriva  Female          21          26         25   \n",
      "919     g989     Propriva  Female          21          26         30   \n",
      "920     g989     Propriva  Female          21          26         35   \n",
      "\n",
      "     Tumor Volume (mm3)  Metastatic Sites  \n",
      "908           45.000000                 0  \n",
      "909           45.000000                 0  \n",
      "910           48.786801                 0  \n",
      "911           47.570392                 0  \n",
      "912           51.745156                 0  \n",
      "913           49.880528                 0  \n",
      "914           51.325852                 1  \n",
      "915           53.442020                 0  \n",
      "916           55.326122                 1  \n",
      "917           54.657650                 1  \n",
      "918           56.045564                 1  \n",
      "919           59.082294                 1  \n",
      "920           62.570880                 2  \n"
     ]
    }
   ],
   "source": [
    "# Getting the duplicate mice by ID number that shows up for Mouse ID and Timepoint. \n",
    "# Group the mice by Mouse ID and then perform a value_counts on timepoint to create a series of timepoint counts for each mouse.\n",
    "timepoints_counts = study_data.groupby(\"Mouse ID\")[\"Timepoint\"].value_counts()\n",
    "# Each mouse should only have one of each timepoint. Determine all of the muce that have more than one of the timepoints and return in a pandas series that describes the counts of timepoints for each mouse. Retrieve the indices of that series\n",
    "dupes = timepoints_counts[timepoints_counts > 1].index\n",
    "# Dupes will be a multi-index type with both Mouse ID and Timepoint. Drop the Timepoint index, and remove any duplicate mouse IDs so that you are left with an index object of unique mice\n",
    "dupes = dupes.droplevel(\"Timepoint\").unique()\n",
    "for mouseID in dupes:\n",
    "    print(f\"Mouse {mouseID} has duplicate entries for Timepoint. Below is data associated with this mouse.\")\n",
    "    # Optional: Get all the data for the duplicate mouse ID. \n",
    "    print(study_data.loc[study_data[\"Mouse ID\"] == mouseID])\n"
   ]
  },
  {
   "cell_type": "code",
   "execution_count": 4,
   "metadata": {},
   "outputs": [],
   "source": [
    "# Create a clean DataFrame by dropping the duplicate mouse by its ID.\n",
    "# Set the dataframe index as mouse ID so that rows can be removed by Mouse ID\n",
    "study_data.set_index(\"Mouse ID\", inplace = True)\n",
    "\n",
    "# Loop over the dupes index object and drop the rows corresponding to all the mice in that Series\n",
    "for mouse in dupes:\n",
    "    study_data.drop(mouse, inplace = True)\n",
    "\n",
    "    "
   ]
  },
  {
   "cell_type": "code",
   "execution_count": 5,
   "metadata": {},
   "outputs": [
    {
     "name": "stdout",
     "output_type": "stream",
     "text": [
      "This cleaned dataset contains 248 unique mice.\n"
     ]
    }
   ],
   "source": [
    "# Checking the number of mice in the clean DataFrame.\n",
    "num_mice_clean = study_data.index.unique()\n",
    "print(f\"This cleaned dataset contains {len(num_mice_clean)} unique mice.\")"
   ]
  },
  {
   "cell_type": "markdown",
   "metadata": {},
   "source": [
    "## Summary Statistics"
   ]
  },
  {
   "cell_type": "code",
   "execution_count": 6,
   "metadata": {},
   "outputs": [
    {
     "name": "stdout",
     "output_type": "stream",
     "text": [
      "Tumor Volume Summary Statistics\n"
     ]
    },
    {
     "data": {
      "text/html": [
       "<div>\n",
       "<style scoped>\n",
       "    .dataframe tbody tr th:only-of-type {\n",
       "        vertical-align: middle;\n",
       "    }\n",
       "\n",
       "    .dataframe tbody tr th {\n",
       "        vertical-align: top;\n",
       "    }\n",
       "\n",
       "    .dataframe thead th {\n",
       "        text-align: right;\n",
       "    }\n",
       "</style>\n",
       "<table border=\"1\" class=\"dataframe\">\n",
       "  <thead>\n",
       "    <tr style=\"text-align: right;\">\n",
       "      <th></th>\n",
       "      <th>Mean</th>\n",
       "      <th>Median</th>\n",
       "      <th>Variance</th>\n",
       "      <th>Standard Deviation</th>\n",
       "      <th>SEM</th>\n",
       "    </tr>\n",
       "    <tr>\n",
       "      <th>Drug Regimen</th>\n",
       "      <th></th>\n",
       "      <th></th>\n",
       "      <th></th>\n",
       "      <th></th>\n",
       "      <th></th>\n",
       "    </tr>\n",
       "  </thead>\n",
       "  <tbody>\n",
       "    <tr>\n",
       "      <td>Capomulin</td>\n",
       "      <td>40.675741</td>\n",
       "      <td>41.557809</td>\n",
       "      <td>24.947764</td>\n",
       "      <td>4.994774</td>\n",
       "      <td>0.329346</td>\n",
       "    </tr>\n",
       "    <tr>\n",
       "      <td>Ceftamin</td>\n",
       "      <td>52.591172</td>\n",
       "      <td>51.776157</td>\n",
       "      <td>39.290177</td>\n",
       "      <td>6.268188</td>\n",
       "      <td>0.469821</td>\n",
       "    </tr>\n",
       "    <tr>\n",
       "      <td>Infubinol</td>\n",
       "      <td>52.884795</td>\n",
       "      <td>51.820584</td>\n",
       "      <td>43.128684</td>\n",
       "      <td>6.567243</td>\n",
       "      <td>0.492236</td>\n",
       "    </tr>\n",
       "    <tr>\n",
       "      <td>Ketapril</td>\n",
       "      <td>55.235638</td>\n",
       "      <td>53.698743</td>\n",
       "      <td>68.553577</td>\n",
       "      <td>8.279709</td>\n",
       "      <td>0.603860</td>\n",
       "    </tr>\n",
       "    <tr>\n",
       "      <td>Naftisol</td>\n",
       "      <td>54.331565</td>\n",
       "      <td>52.509285</td>\n",
       "      <td>66.173479</td>\n",
       "      <td>8.134708</td>\n",
       "      <td>0.596466</td>\n",
       "    </tr>\n",
       "    <tr>\n",
       "      <td>Placebo</td>\n",
       "      <td>54.033581</td>\n",
       "      <td>52.288934</td>\n",
       "      <td>61.168083</td>\n",
       "      <td>7.821003</td>\n",
       "      <td>0.581331</td>\n",
       "    </tr>\n",
       "    <tr>\n",
       "      <td>Propriva</td>\n",
       "      <td>52.320930</td>\n",
       "      <td>50.446266</td>\n",
       "      <td>43.852013</td>\n",
       "      <td>6.622085</td>\n",
       "      <td>0.544332</td>\n",
       "    </tr>\n",
       "    <tr>\n",
       "      <td>Ramicane</td>\n",
       "      <td>40.216745</td>\n",
       "      <td>40.673236</td>\n",
       "      <td>23.486704</td>\n",
       "      <td>4.846308</td>\n",
       "      <td>0.320955</td>\n",
       "    </tr>\n",
       "    <tr>\n",
       "      <td>Stelasyn</td>\n",
       "      <td>54.233149</td>\n",
       "      <td>52.431737</td>\n",
       "      <td>59.450562</td>\n",
       "      <td>7.710419</td>\n",
       "      <td>0.573111</td>\n",
       "    </tr>\n",
       "    <tr>\n",
       "      <td>Zoniferol</td>\n",
       "      <td>53.236507</td>\n",
       "      <td>51.818479</td>\n",
       "      <td>48.533355</td>\n",
       "      <td>6.966589</td>\n",
       "      <td>0.516398</td>\n",
       "    </tr>\n",
       "  </tbody>\n",
       "</table>\n",
       "</div>"
      ],
      "text/plain": [
       "                   Mean     Median   Variance  Standard Deviation       SEM\n",
       "Drug Regimen                                                               \n",
       "Capomulin     40.675741  41.557809  24.947764            4.994774  0.329346\n",
       "Ceftamin      52.591172  51.776157  39.290177            6.268188  0.469821\n",
       "Infubinol     52.884795  51.820584  43.128684            6.567243  0.492236\n",
       "Ketapril      55.235638  53.698743  68.553577            8.279709  0.603860\n",
       "Naftisol      54.331565  52.509285  66.173479            8.134708  0.596466\n",
       "Placebo       54.033581  52.288934  61.168083            7.821003  0.581331\n",
       "Propriva      52.320930  50.446266  43.852013            6.622085  0.544332\n",
       "Ramicane      40.216745  40.673236  23.486704            4.846308  0.320955\n",
       "Stelasyn      54.233149  52.431737  59.450562            7.710419  0.573111\n",
       "Zoniferol     53.236507  51.818479  48.533355            6.966589  0.516398"
      ]
     },
     "execution_count": 6,
     "metadata": {},
     "output_type": "execute_result"
    }
   ],
   "source": [
    "# Generate a summary statistics table of mean, median, variance, standard deviation, and SEM of the tumor volume for each regimen\n",
    "# This method is the most straighforward, creating multiple series and putting them all together at the end.\n",
    "# Create the group_by_regimen variable and use it to create dataframes for the mean, median, variance, standard deviation, and SEM by drug regimen\n",
    "group_by_regimen = study_data.groupby(\"Drug Regimen\")[\"Tumor Volume (mm3)\"]\n",
    "mean_by_regimen = group_by_regimen.mean()\n",
    "median_by_regimen = group_by_regimen.median()\n",
    "var_by_regimen = group_by_regimen.var()\n",
    "stdev_by_regimen = group_by_regimen.std()\n",
    "SEM_by_regimen = group_by_regimen.sem()\n",
    "\n",
    "# Combine into a dataframe\n",
    "summary_stats_df = pd.DataFrame({\"Mean\" : mean_by_regimen, \"Median\" : median_by_regimen, \"Variance\" : var_by_regimen, \"Standard Deviation\" : stdev_by_regimen, \"SEM\" : SEM_by_regimen})\n",
    "print(\"Tumor Volume Summary Statistics\")\n",
    "summary_stats_df"
   ]
  },
  {
   "cell_type": "code",
   "execution_count": 7,
   "metadata": {},
   "outputs": [
    {
     "name": "stdout",
     "output_type": "stream",
     "text": [
      "Tumor Volume Summary Statistics\n"
     ]
    },
    {
     "data": {
      "text/html": [
       "<div>\n",
       "<style scoped>\n",
       "    .dataframe tbody tr th:only-of-type {\n",
       "        vertical-align: middle;\n",
       "    }\n",
       "\n",
       "    .dataframe tbody tr th {\n",
       "        vertical-align: top;\n",
       "    }\n",
       "\n",
       "    .dataframe thead th {\n",
       "        text-align: right;\n",
       "    }\n",
       "</style>\n",
       "<table border=\"1\" class=\"dataframe\">\n",
       "  <thead>\n",
       "    <tr style=\"text-align: right;\">\n",
       "      <th></th>\n",
       "      <th>Mean</th>\n",
       "      <th>Median</th>\n",
       "      <th>Variance</th>\n",
       "      <th>Standard Deviation</th>\n",
       "      <th>SEM</th>\n",
       "    </tr>\n",
       "    <tr>\n",
       "      <th>Drug Regimen</th>\n",
       "      <th></th>\n",
       "      <th></th>\n",
       "      <th></th>\n",
       "      <th></th>\n",
       "      <th></th>\n",
       "    </tr>\n",
       "  </thead>\n",
       "  <tbody>\n",
       "    <tr>\n",
       "      <td>Capomulin</td>\n",
       "      <td>40.675741</td>\n",
       "      <td>41.557809</td>\n",
       "      <td>24.947764</td>\n",
       "      <td>4.994774</td>\n",
       "      <td>0.329346</td>\n",
       "    </tr>\n",
       "    <tr>\n",
       "      <td>Ceftamin</td>\n",
       "      <td>52.591172</td>\n",
       "      <td>51.776157</td>\n",
       "      <td>39.290177</td>\n",
       "      <td>6.268188</td>\n",
       "      <td>0.469821</td>\n",
       "    </tr>\n",
       "    <tr>\n",
       "      <td>Infubinol</td>\n",
       "      <td>52.884795</td>\n",
       "      <td>51.820584</td>\n",
       "      <td>43.128684</td>\n",
       "      <td>6.567243</td>\n",
       "      <td>0.492236</td>\n",
       "    </tr>\n",
       "    <tr>\n",
       "      <td>Ketapril</td>\n",
       "      <td>55.235638</td>\n",
       "      <td>53.698743</td>\n",
       "      <td>68.553577</td>\n",
       "      <td>8.279709</td>\n",
       "      <td>0.603860</td>\n",
       "    </tr>\n",
       "    <tr>\n",
       "      <td>Naftisol</td>\n",
       "      <td>54.331565</td>\n",
       "      <td>52.509285</td>\n",
       "      <td>66.173479</td>\n",
       "      <td>8.134708</td>\n",
       "      <td>0.596466</td>\n",
       "    </tr>\n",
       "    <tr>\n",
       "      <td>Placebo</td>\n",
       "      <td>54.033581</td>\n",
       "      <td>52.288934</td>\n",
       "      <td>61.168083</td>\n",
       "      <td>7.821003</td>\n",
       "      <td>0.581331</td>\n",
       "    </tr>\n",
       "    <tr>\n",
       "      <td>Propriva</td>\n",
       "      <td>52.320930</td>\n",
       "      <td>50.446266</td>\n",
       "      <td>43.852013</td>\n",
       "      <td>6.622085</td>\n",
       "      <td>0.544332</td>\n",
       "    </tr>\n",
       "    <tr>\n",
       "      <td>Ramicane</td>\n",
       "      <td>40.216745</td>\n",
       "      <td>40.673236</td>\n",
       "      <td>23.486704</td>\n",
       "      <td>4.846308</td>\n",
       "      <td>0.320955</td>\n",
       "    </tr>\n",
       "    <tr>\n",
       "      <td>Stelasyn</td>\n",
       "      <td>54.233149</td>\n",
       "      <td>52.431737</td>\n",
       "      <td>59.450562</td>\n",
       "      <td>7.710419</td>\n",
       "      <td>0.573111</td>\n",
       "    </tr>\n",
       "    <tr>\n",
       "      <td>Zoniferol</td>\n",
       "      <td>53.236507</td>\n",
       "      <td>51.818479</td>\n",
       "      <td>48.533355</td>\n",
       "      <td>6.966589</td>\n",
       "      <td>0.516398</td>\n",
       "    </tr>\n",
       "  </tbody>\n",
       "</table>\n",
       "</div>"
      ],
      "text/plain": [
       "                   Mean     Median   Variance  Standard Deviation       SEM\n",
       "Drug Regimen                                                               \n",
       "Capomulin     40.675741  41.557809  24.947764            4.994774  0.329346\n",
       "Ceftamin      52.591172  51.776157  39.290177            6.268188  0.469821\n",
       "Infubinol     52.884795  51.820584  43.128684            6.567243  0.492236\n",
       "Ketapril      55.235638  53.698743  68.553577            8.279709  0.603860\n",
       "Naftisol      54.331565  52.509285  66.173479            8.134708  0.596466\n",
       "Placebo       54.033581  52.288934  61.168083            7.821003  0.581331\n",
       "Propriva      52.320930  50.446266  43.852013            6.622085  0.544332\n",
       "Ramicane      40.216745  40.673236  23.486704            4.846308  0.320955\n",
       "Stelasyn      54.233149  52.431737  59.450562            7.710419  0.573111\n",
       "Zoniferol     53.236507  51.818479  48.533355            6.966589  0.516398"
      ]
     },
     "execution_count": 7,
     "metadata": {},
     "output_type": "execute_result"
    }
   ],
   "source": [
    "# Generate a summary statistics table of mean, median, variance, standard deviation, and SEM of the tumor volume for each regimen\n",
    "\n",
    "# This method produces everything in a single groupby function by using the agg() method\n",
    "summary_stats_df2 = group_by_regimen.agg([np.mean, np.median, np.var, np.std, st.sem])\n",
    "# Rename the Columns\n",
    "summary_stats_df2 = summary_stats_df2.rename(columns={\"mean\" : \"Mean\", \"median\" : \"Median\", \"var\" : \"Variance\", \"sem\" : \"SEM\", \"std\" : \"Standard Deviation\"})\n",
    "# Reorganize the Columns\n",
    "summary_stats_df2 = summary_stats_df2[[\"Mean\", \"Median\", \"Variance\", \"Standard Deviation\", \"SEM\"]]\n",
    "print(\"Tumor Volume Summary Statistics\")\n",
    "summary_stats_df2"
   ]
  },
  {
   "cell_type": "markdown",
   "metadata": {},
   "source": [
    "## Bar and Pie Charts"
   ]
  },
  {
   "cell_type": "code",
   "execution_count": 8,
   "metadata": {},
   "outputs": [],
   "source": [
    "# Reset the index so that we can once again use groupby on mouse ID\n",
    "study_data = study_data.reset_index()\n"
   ]
  },
  {
   "cell_type": "code",
   "execution_count": 9,
   "metadata": {},
   "outputs": [
    {
     "data": {
      "image/png": "[encoded data removed]",
      "text/plain": [
       "<Figure size 432x288 with 1 Axes>"
      ]
     },
     "metadata": {
      "needs_background": "light"
     },
     "output_type": "display_data"
    }
   ],
   "source": [
    "# Generate a bar plot showing the total number of mice for each treatment throughout the course of the study using pandas. \n",
    "# Group the study_data dataframe by Drug Regimen, then perform a .nunique() count on the Mouse ID column to count the number of mice in each Drug Regimen\n",
    "total_mice_by_treatment = study_data.groupby(\"Drug Regimen\")[\"Mouse ID\"].nunique()\n",
    "# Initialize an empty list by which to build a list of drugs used. Then loop over each index of the total_mice_by_treatment series and store the name of the index (i.e. drug name) into the list. The list will be used as the xticks labels for pyplot.\n",
    "treatment_regimen = []\n",
    "for treatment in total_mice_by_treatment.index:\n",
    "    treatment_regimen.append(treatment)\n",
    "\n",
    "# # Build a dataframe using the total_mice_by_treatment series so that we can plot it using .plot() method in pandas\n",
    "# mice_treatment_df = pd.DataFrame({\"Number of Mice\" : total_mice_by_treatment})\n",
    "# # print(mice_treatment_df)\n",
    "\n",
    "# # Create the plot from the dataframe and create the axis labels\n",
    "# mice_treatment_pandas_plot = mice_treatment_df.plot(kind = 'bar', title = \"Number of Mice For Each Drug Regimen\", legend = False, width = 0.75)\n",
    "# mice_treatment_pandas_plot.set_ylabel(\"Number of Mice\")\n",
    "\n",
    "## Below is the code for each timepoint throughout the study\n",
    "total_mice_by_treatment2 = study_data.groupby(\"Drug Regimen\")[\"Mouse ID\"].count()\n",
    "# Sort the bars in descending order\n",
    "total_mice_by_treatment2.sort_values(inplace = True, ascending = False)\n",
    "mice_treatment_pandas_plot2 = total_mice_by_treatment2.plot(kind = \"bar\", title = \"Number of Mice For Each Drug Regimen\", legend = False, width = 0.75)\n"
   ]
  },
  {
   "cell_type": "code",
   "execution_count": 10,
   "metadata": {},
   "outputs": [
    {
     "data": {
      "image/png": "[encoded data removed]",
      "text/plain": [
       "<Figure size 432x288 with 1 Axes>"
      ]
     },
     "metadata": {
      "needs_background": "light"
     },
     "output_type": "display_data"
    }
   ],
   "source": [
    "# Generate a bar plot showing the total number of mice for each treatment throughout the course of the study using pyplot.\n",
    "\n",
    "# Re-create the plot using pyplot commands\n",
    "\n",
    "x_axis = np.arange(len(total_mice_by_treatment2))\n",
    "tick_locations = [value for value in x_axis]\n",
    "plt.xticks(tick_locations, treatment_regimen, rotation = 90)\n",
    "plt.title(\"Number of Mice for Each Treatment Regimen\")\n",
    "plt.xlabel(\"Drug Regiment\")\n",
    "plt.ylabel(\"Number of Mice\")\n",
    "plt.bar(x_axis, total_mice_by_treatment2)\n",
    "plt.show()"
   ]
  },
  {
   "cell_type": "code",
   "execution_count": 11,
   "metadata": {},
   "outputs": [
    {
     "data": {
      "text/plain": [
       "Text(0, 0.5, '')"
      ]
     },
     "execution_count": 11,
     "metadata": {},
     "output_type": "execute_result"
    },
    {
     "data": {
      "image/png": "[encoded data removed]",
      "text/plain": [
       "<Figure size 432x288 with 1 Axes>"
      ]
     },
     "metadata": {},
     "output_type": "display_data"
    }
   ],
   "source": [
    "# Generate a pie plot showing the distribution of female versus male mice using pandas\n",
    "\n",
    "gender_data = study_data.groupby(\"Sex\")[\"Mouse ID\"].count()\n",
    "gender_plot_pandas = gender_data.plot(kind = 'pie', title = \"Mouse Sex Distrubition\", autopct=\"%1.1f%%\", startangle = 90)\n",
    "gender_plot_pandas.set_ylabel(\"\")"
   ]
  },
  {
   "cell_type": "code",
   "execution_count": 12,
   "metadata": {},
   "outputs": [
    {
     "data": {
      "image/png": "[encoded data removed]",
      "text/plain": [
       "<Figure size 432x288 with 1 Axes>"
      ]
     },
     "metadata": {},
     "output_type": "display_data"
    }
   ],
   "source": [
    "# Generate a pie plot showing the distribution of female versus male mice using pyplot\n",
    "gender_plot_pyplot = plt.pie(gender_data,\n",
    "        autopct=\"%1.1f%%\", shadow=True, startangle=90, labels = gender_data.index)\n",
    "plt.title('Mouse Sex Distribution')\n",
    "plt.show()"
   ]
  },
  {
   "cell_type": "markdown",
   "metadata": {},
   "source": [
    "## Quartiles, Outliers and Boxplots"
   ]
  },
  {
   "cell_type": "code",
   "execution_count": 13,
   "metadata": {},
   "outputs": [],
   "source": [
    "# Calculate the final tumor volume of each mouse across four of the treatment regimens:  \n",
    "# Capomulin, Ramicane, Infubinol, and Ceftamin\n",
    "\n",
    "\n",
    "# Start by getting the last (greatest) timepoint for each mouse. \n",
    "last_timepoint = study_data.groupby(\"Mouse ID\")[\"Timepoint\"].max()\n",
    "\n",
    "# Merge this group df with the original dataframe to get the tumor volume at the last timepoint\n",
    "# Join the last_timepoint series onto the original dataframe on Mouse ID and Timepoint, making sure to use the inner join so that only the final timepoints are included.\n",
    "last_timepoint_df = study_data.merge(last_timepoint, on = [\"Mouse ID\", \"Timepoint\"], how = 'inner')\n",
    "# print(last_timepoint_df)"
   ]
  },
  {
   "cell_type": "code",
   "execution_count": 14,
   "metadata": {},
   "outputs": [
    {
     "name": "stdout",
     "output_type": "stream",
     "text": [
      "Tumor volume 36.32mm3 with Infubinol treatment is an outlier.\n"
     ]
    }
   ],
   "source": [
    "# Put treatments into a list for for loop (and later for plot labels)\n",
    "top_four = ['Capomulin', 'Ramicane', 'Infubinol', 'Ceftamin']\n",
    "\n",
    "# Create empty list to fill with tumor vol data (for plotting)\n",
    "final_tumor_vol_capomulin = []\n",
    "final_tumor_vol_ramicane = []\n",
    "final_tumor_vol_infibunol = []\n",
    "final_tumor_vol_ceftamin = []\n",
    "\n",
    "# Loop over each treatment in the list of top four treatments. For each treatment, create a series for the final tumor volumes by subsetting the last_timepoint_df by that treatment, then return the tumor volume column and add it to the final tumor volume list for that treatment.\n",
    "for treatment in top_four:\n",
    "    final_tumor_volumes = last_timepoint_df[last_timepoint_df[\"Drug Regimen\"] == treatment][\"Tumor Volume (mm3)\"]\n",
    "    if treatment == 'Capomulin':\n",
    "        final_tumor_vol_capomulin = final_tumor_volumes\n",
    "    elif treatment == 'Ramicane':\n",
    "        final_tumor_vol_ramicane = final_tumor_volumes\n",
    "    elif treatment == \"Infubinol\":\n",
    "        final_tumor_vol_infubinol = final_tumor_volumes\n",
    "    elif treatment == \"Ceftamin\":\n",
    "        final_tumor_vol_ceftamin = final_tumor_volumes\n",
    "        \n",
    "# print(final_tumor_vol_capomulin)\n",
    "# print(final_tumor_vol_ramicane)\n",
    "# print(final_tumor_vol_infubinol)\n",
    "# print(final_tumor_vol_ceftamin)\n",
    "\n",
    "# Calculate the IQR and quantitatively determine if there are any potential outliers. \n",
    "\n",
    "# Determine outliers using upper and lower bounds\n",
    "\n",
    "capomulin_IQR = np.quantile(final_tumor_vol_capomulin, 0.75) -np.quantile(final_tumor_vol_capomulin, 0.25)\n",
    "capomulin_lower = np.quantile(final_tumor_vol_capomulin, 0.25) -capomulin_IQR*1.5\n",
    "capomulin_upper = np.quantile(final_tumor_vol_capomulin, 0.75) +capomulin_IQR*1.5\n",
    "# print(capomulin_lower)\n",
    "# print(capomulin_upper)\n",
    "for value in final_tumor_vol_capomulin:\n",
    "    if value > capomulin_upper or value < capomulin_lower:     \n",
    "        print(\"fTumor volume {value:.2f}mm3 with Capomulin treatment is an outlier.\")\n",
    "        break\n",
    "\n",
    "ramicane_IQR = np.quantile(final_tumor_vol_ramicane, 0.75) -np.quantile(final_tumor_vol_ramicane, 0.25)\n",
    "ramicane_lower = np.quantile(final_tumor_vol_ramicane, 0.25) -ramicane_IQR*1.5\n",
    "ramicane_upper = np.quantile(final_tumor_vol_ramicane, 0.75) +ramicane_IQR*1.5\n",
    "# print(ramicane_lower)\n",
    "# print(ramicane_upper)\n",
    "for value in final_tumor_vol_ramicane:\n",
    "    if value > ramicane_upper or value < ramicane_lower:     \n",
    "        print(f\"Tumor volume {value:.2f}mm3 with Ramicane treatment is an outlier.\")\n",
    "        break\n",
    "\n",
    "infubinol_IQR = np.quantile(final_tumor_vol_infubinol, 0.75) -np.quantile(final_tumor_vol_infubinol, 0.25)\n",
    "infubinol_lower = np.quantile(final_tumor_vol_infubinol, 0.25) -infubinol_IQR*1.5\n",
    "infubinol_upper = np.quantile(final_tumor_vol_infubinol, 0.75) + infubinol_IQR*1.5\n",
    "# print(infubinol_lower)\n",
    "# print(infubinol_upper)\n",
    "for value in final_tumor_vol_infubinol:\n",
    "    if value > infubinol_upper or value < infubinol_lower:     \n",
    "        print(f\"Tumor volume {value:.2f}mm3 with Infubinol treatment is an outlier.\")\n",
    "        break\n",
    "\n",
    "    \n",
    "ceftamin_IQR = np.quantile(final_tumor_vol_ceftamin, 0.75) -np.quantile(final_tumor_vol_ceftamin, 0.25)\n",
    "ceftamin_lower = np.quantile(final_tumor_vol_ceftamin, 0.25) -ceftamin_IQR*1.5\n",
    "ceftamin_upper = np.quantile(final_tumor_vol_ceftamin, 0.75) + ceftamin_IQR*1.5\n",
    "# print(ceftamin_lower)\n",
    "# print(ceftamin_upper)\n",
    "for value in final_tumor_vol_ceftamin:\n",
    "    if value > ceftamin_upper or value < ceftamin_lower:     \n",
    "        print(f\"Tumor volume {value:.2f}mm3 with Ceftamin treatment is an outlier.\")\n",
    "        break\n",
    "\n",
    "    \n",
    "    \n",
    "    "
   ]
  },
  {
   "cell_type": "code",
   "execution_count": 15,
   "metadata": {},
   "outputs": [
    {
     "data": {
      "text/plain": [
       "Text(0, 0.5, 'Final Tumor Volumes (mm3)')"
      ]
     },
     "execution_count": 15,
     "metadata": {},
     "output_type": "execute_result"
    },
    {
     "data": {
      "image/png": "[encoded data removed]",
      "text/plain": [
       "<Figure size 432x288 with 1 Axes>"
      ]
     },
     "metadata": {
      "needs_background": "light"
     },
     "output_type": "display_data"
    }
   ],
   "source": [
    "# Generate a box plot of the final tumorfinal_tumor_vol_ramicane volume of each mouse across four regimens of interest\n",
    "plt.boxplot([final_tumor_vol_capomulin, final_tumor_vol_ramicane, final_tumor_vol_infubinol, final_tumor_vol_ceftamin], flierprops = dict(markerfacecolor='r', marker='s'))\n",
    "\n",
    "\n",
    "plt.title('Final Tumor Volumes for Mice Treated with Top Four Drugs')\n",
    "\n",
    "plt.xticks([position + 1 for position in range(len(top_four))], top_four)\n",
    "plt.xlabel('Drug Regimen')\n",
    "plt.ylabel('Final Tumor Volumes (mm3)')\n"
   ]
  },
  {
   "cell_type": "markdown",
   "metadata": {},
   "source": [
    "## Line and Scatter Plots"
   ]
  },
  {
   "cell_type": "code",
   "execution_count": 16,
   "metadata": {},
   "outputs": [
    {
     "data": {
      "text/plain": [
       "Text(0, 0.5, 'Tumor Volume (mm3)')"
      ]
     },
     "execution_count": 16,
     "metadata": {},
     "output_type": "execute_result"
    },
    {
     "data": {
      "image/png": "[encoded data removed]",
      "text/plain": [
       "<Figure size 432x288 with 1 Axes>"
      ]
     },
     "metadata": {
      "needs_background": "light"
     },
     "output_type": "display_data"
    }
   ],
   "source": [
    "# Generate a line plot of time point versus tumor volume for a mouse treated with Capomulin\n",
    "mouse_s185 = study_data.loc[study_data[\"Mouse ID\"] == 's185']\n",
    "mouse_s185_plot = plt.plot(mouse_s185[\"Timepoint\"], mouse_s185[\"Tumor Volume (mm3)\"], marker = \"o\")\n",
    "plt.title('Tumor Volume vs. Timepoint for Mouse s185, Treated with Capomulin')\n",
    "plt.xlabel('Timepoint')\n",
    "plt.ylabel('Tumor Volume (mm3)')\n"
   ]
  },
  {
   "cell_type": "code",
   "execution_count": 17,
   "metadata": {
    "scrolled": true
   },
   "outputs": [
    {
     "data": {
      "text/plain": [
       "Text(0.5, 0, 'Mouse Weight (g)')"
      ]
     },
     "execution_count": 17,
     "metadata": {},
     "output_type": "execute_result"
    },
    {
     "data": {
      "image/png": "[encoded data removed]",
      "text/plain": [
       "<Figure size 432x288 with 1 Axes>"
      ]
     },
     "metadata": {
      "needs_background": "light"
     },
     "output_type": "display_data"
    }
   ],
   "source": [
    "# Generate a scatter plot of mouse weight versus average tumor volume for the Capomulin regimen\n",
    "\n",
    "# Group the study data by weight and calculate the average tumor volume for each weight\n",
    "tumor_data = study_data.groupby(\"Weight (g)\")[\"Tumor Volume (mm3)\"].mean()\n",
    "\n",
    "# weight = tumor_data.index\n",
    "# tumor_vol = tumor_data\n",
    "# capomulin_weight_tumor_scatter = plt.scatter(weight, tumor_vol)\n",
    "# plt.title('Mouse Weight vs. Average Tumor Volume for Capomulin-Treated Mice')\n",
    "# plt.xlabel('Weight (g)')\n",
    "# plt.ylabel('Tumor Volume (mm3)')\n",
    "\n",
    "# Isolate the Capomulin data, group the mice by Mouse ID and Weight, then calculate the mean for Tumor Volumes for each Mouse and Weight. It will return a Pandas series that \n",
    "capomulin_data = study_data.loc[study_data[\"Drug Regimen\"] == 'Capomulin']\n",
    "capomulin_weight_tumor = capomulin_data.groupby([\"Mouse ID\", \"Weight (g)\"])['Tumor Volume (mm3)'].mean()\n",
    "\n",
    "# Set the x (weight) and y (tumor volume) values. The weight can be pulled as the index for the capomulin\n",
    "weight = capomulin_weight_tumor.index.droplevel(\"Mouse ID\")\n",
    "tumor_vol = capomulin_weight_tumor \n",
    "\n",
    "capomulin_weight_tumor_scatter = plt.scatter(weight, tumor_vol)\n",
    "plt.title('Mouse Weight vs. Average Tumor Volume for Capomulin-Treated Mice')\n",
    "plt.ylabel('Average Tumor Volume (mm3)')\n",
    "plt.xlabel('Mouse Weight (g)')"
   ]
  },
  {
   "cell_type": "markdown",
   "metadata": {},
   "source": [
    "## Correlation and Regression"
   ]
  },
  {
   "cell_type": "code",
   "execution_count": 19,
   "metadata": {},
   "outputs": [
    {
     "name": "stdout",
     "output_type": "stream",
     "text": [
      "The Pearson correlation coefficient for mouse weight and average tumor volume is 0.842.\n"
     ]
    },
    {
     "data": {
      "image/png": "[encoded data removed]",
      "text/plain": [
       "<Figure size 432x288 with 1 Axes>"
      ]
     },
     "metadata": {
      "needs_background": "light"
     },
     "output_type": "display_data"
    }
   ],
   "source": [
    "# Calculate the correlation coefficient and linear regression model \n",
    "# for mouse weight and average tumor volume for the Capomulin regimen\n",
    "corrcoeff = st.pearsonr(weight, tumor_vol)\n",
    "print(f\"The Pearson correlation coefficient for mouse weight and average tumor volume is {corrcoeff[0]:.3f}.\")\n",
    "\n",
    "# Perform the linear regression calculations. Note that the weight and tumor_vol data structures are Pandas series.\n",
    "weight_tumor_slope, weight_tumor_yint, weight_tumor_r, weight_tumor_pval, weight_tumor_stderr = st.linregress(weight, tumor_vol)\n",
    "weight_tumor_fit = weight_tumor_slope * weight + weight_tumor_yint\n",
    "\n",
    "capomulin_weight_tumor_scatter = plt.scatter(weight, tumor_vol)\n",
    "plt.title('Mouse Weight vs. Average Tumor Volume for Capomulin-Treated Mice')\n",
    "plt.plot(weight,weight_tumor_fit,\"--\", color = 'orange')\n",
    "plt.xlabel('Weight (g)')\n",
    "plt.ylabel('Average Tumor Volume (mm3)')\n",
    "line_eq = 'y = ' + str(round(weight_tumor_slope, 2)) + 'x +' + str(round(weight_tumor_yint, 2))\n",
    "plt.annotate(line_eq,(18, 36),fontsize=15,color=\"orange\")\n",
    "plt.show()"
   ]
  },
  {
   "cell_type": "code",
   "execution_count": null,
   "metadata": {},
   "outputs": [],
   "source": []
  }
 ],
 "metadata": {
  "anaconda-cloud": {},
  "kernelspec": {
   "display_name": "Python 3",
   "language": "python",
   "name": "python3"
  },
  "language_info": {
   "codemirror_mode": {
    "name": "ipython",
    "version": 3
   },
   "file_extension": ".py",
   "mimetype": "text/x-python",
   "name": "python",
   "nbconvert_exporter": "python",
   "pygments_lexer": "ipython3",
   "version": "3.7.4"
  }
 },
 "nbformat": 4,
 "nbformat_minor": 2
}
